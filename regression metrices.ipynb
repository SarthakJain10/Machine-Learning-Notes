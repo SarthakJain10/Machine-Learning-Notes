{
 "cells": [
  {
   "cell_type": "code",
   "execution_count": null,
   "metadata": {},
   "outputs": [],
   "source": [
    "y_pred = lr.predict(X_test)"
   ]
  },
  {
   "cell_type": "markdown",
   "metadata": {},
   "source": [
    "MAE : Mean Absolute error used to find the mean of how far is the prediction points from the original points "
   ]
  },
  {
   "cell_type": "code",
   "execution_count": null,
   "metadata": {},
   "outputs": [],
   "source": [
    "print(\"MAE\",mean_absolute_error(y_test,y_pred))"
   ]
  },
  {
   "cell_type": "markdown",
   "metadata": {},
   "source": [
    "MSE : Mean Square Error is helpful in differentiable functions "
   ]
  },
  {
   "cell_type": "code",
   "execution_count": null,
   "metadata": {},
   "outputs": [],
   "source": [
    "print(\"MSE\",mean_squared_error(y_test,y_pred))"
   ]
  },
  {
   "cell_type": "markdown",
   "metadata": {},
   "source": [
    "RMSE : Root Mean Square Error just the root of above error "
   ]
  },
  {
   "cell_type": "code",
   "execution_count": null,
   "metadata": {},
   "outputs": [],
   "source": [
    "print(\"RMSE\",np.sqrt(mean_squared_error(y_test,y_pred)))"
   ]
  },
  {
   "cell_type": "markdown",
   "metadata": {},
   "source": [
    "r2-score : used to check the accuracy of the model \n",
    "\n",
    "if r2-score = 0 means model is predicting the mean of y and is not dependent on x. in short model is BAD\n",
    "\n",
    "if r2-score = 1 means model is predicting perfectly well. YOU ARE GOD\n",
    "\n",
    "if r2-score = -ve DOOB KE MAR JAO "
   ]
  },
  {
   "cell_type": "code",
   "execution_count": null,
   "metadata": {},
   "outputs": [],
   "source": [
    "print(\"r2_score\",r2_score(y_test,y_pred))\n",
    "# r2 = r2_score(y_test,y_pred)"
   ]
  },
  {
   "cell_type": "markdown",
   "metadata": {},
   "source": [
    "Adjusted r2-score is helpfull when there are columns that are not related to the output column at all which may lead to increasing the efficiency of r2-score so the adjusted r2-score decreases the value of the score thus indicating that the row is useless"
   ]
  },
  {
   "cell_type": "code",
   "execution_count": null,
   "metadata": {},
   "outputs": [],
   "source": [
    "# Adjusted R2 score\n",
    "X_test.shape  ## in this case (40, 1)\n",
    "\n",
    "1 - ((1-r2)*(40-1)/(40-1-1))"
   ]
  }
 ],
 "metadata": {
  "language_info": {
   "name": "python"
  }
 },
 "nbformat": 4,
 "nbformat_minor": 2
}
